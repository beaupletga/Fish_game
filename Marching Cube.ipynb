{
 "cells": [
  {
   "cell_type": "code",
   "execution_count": 1,
   "metadata": {},
   "outputs": [],
   "source": [
    "from PIL.Image import *\n",
    "import numpy as np\n",
    "import matplotlib.pyplot as plt\n",
    "import os\n",
    "from scipy import misc\n",
    "import time\n",
    "import itertools\n",
    "import multiprocessing\n",
    "import operator\n",
    "from numpy import linalg as LA\n",
    "import mcubes\n",
    "from mayavi import mlab\n",
    "from mpl_toolkits.mplot3d import axes3d, Axes3D #<-- Note the capitalization! "
   ]
  },
  {
   "cell_type": "code",
   "execution_count": 81,
   "metadata": {},
   "outputs": [],
   "source": [
    "%matplotlib notebook"
   ]
  },
  {
   "cell_type": "code",
   "execution_count": 2,
   "metadata": {},
   "outputs": [
    {
     "name": "stdout",
     "output_type": "stream",
     "text": [
      "/home/gabriel/Downloads/Visualisation_project/Meiacanthus_atrodorsalis\n"
     ]
    }
   ],
   "source": [
    "%cd Meiacanthus_atrodorsalis/"
   ]
  },
  {
   "cell_type": "code",
   "execution_count": 3,
   "metadata": {},
   "outputs": [
    {
     "name": "stdout",
     "output_type": "stream",
     "text": [
      "80\n"
     ]
    }
   ],
   "source": [
    "files_list=sorted(os.listdir('.'))\n",
    "files_list=[files_list[i] for i in range(len(files_list)) if i%15==0]\n",
    "print(len(files_list))\n",
    "data=[np.expand_dims(misc.imread(f)[:,:,0],0) for f in files_list]"
   ]
  },
  {
   "cell_type": "code",
   "execution_count": 4,
   "metadata": {},
   "outputs": [],
   "source": [
    "a=np.concatenate(data)\n",
    "a=a[:,np.arange(0,a.shape[1],20)]\n",
    "a=a[:,:,np.arange(0,a.shape[2],10)]\n",
    "a=a[:,:,:]"
   ]
  },
  {
   "cell_type": "code",
   "execution_count": 11,
   "metadata": {},
   "outputs": [],
   "source": [
    "vertices, triangles = mcubes.marching_cubes(a, 30)"
   ]
  },
  {
   "cell_type": "code",
   "execution_count": 12,
   "metadata": {},
   "outputs": [],
   "source": [
    "mlab.triangular_mesh(vertices[:, 0], vertices[:, 1], vertices[:, 2],triangles)\n",
    "mlab.show()"
   ]
  }
 ],
 "metadata": {
  "kernelspec": {
   "display_name": "Python 3",
   "language": "python",
   "name": "python3"
  },
  "language_info": {
   "codemirror_mode": {
    "name": "ipython",
    "version": 3
   },
   "file_extension": ".py",
   "mimetype": "text/x-python",
   "name": "python",
   "nbconvert_exporter": "python",
   "pygments_lexer": "ipython3",
   "version": "3.5.2"
  }
 },
 "nbformat": 4,
 "nbformat_minor": 2
}
